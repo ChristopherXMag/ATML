{
 "nbformat": 4,
 "nbformat_minor": 0,
 "metadata": {
  "colab": {
   "provenance": []
  },
  "kernelspec": {
   "name": "python3",
   "display_name": "Python 3 (ipykernel)",
   "language": "python"
  },
  "language_info": {
   "name": "python"
  }
 },
 "cells": [
  {
   "cell_type": "markdown",
   "source": [
    "# Template for hand-in on private clustering\n",
    "\n",
    "Advanced Topics in Machine Learning, U. Copenhagen, fall 2023\n",
    "\n",
    "Created by Rasmus Pagh"
   ],
   "metadata": {
    "id": "QkIELpeUpjfh"
   }
  },
  {
   "cell_type": "markdown",
   "source": [
    "# Fetch and load dataset\n",
    "\n",
    "The dataset consists of 3414 embedding vectors for first names from the GloVe dataset. Each vector is a 100-dimensional unit vector."
   ],
   "metadata": {
    "id": "Fp2Mcs-1oEMN"
   }
  },
  {
   "cell_type": "code",
   "source": [
    "import pickle\n",
    "import numpy as np\n",
    "import matplotlib.pyplot as plt\n",
    "\n",
    "!curl -s https://rasmuspagh.net/data/glove.twitter.27B.100d.names.pickle -O\n",
    "input_file = \"glove.twitter.27B.100d.names.pickle\"\n",
    "with open(input_file, 'rb') as f:\n",
    "    embedding = pickle.load(f)\n",
    "names = list(embedding.keys())\n",
    "points = np.array([ embedding[x] for x in names ])\n",
    "n, d = points.shape"
   ],
   "metadata": {
    "id": "LhDvF-pEpolz",
    "ExecuteTime": {
     "end_time": "2024-09-26T13:56:49.990190Z",
     "start_time": "2024-09-26T13:56:48.636874Z"
    }
   },
   "outputs": [],
   "execution_count": 1
  },
  {
   "cell_type": "markdown",
   "source": [
    "# Non-private implementation of cost computation and k-means algorithm"
   ],
   "metadata": {
    "id": "LnytRt07oqTw"
   }
  },
  {
   "metadata": {},
   "cell_type": "code",
   "outputs": [],
   "execution_count": null,
   "source": [
    "def compute_cost(points, centers):\n",
    "    distances_squared = np.sum((points - centers[:,np.newaxis])**2, axis=-1)\n",
    "    return np.mean(np.min(distances_squared, axis=0))\n",
    "\n",
    "\n",
    "def k_means(points, k, t):\n",
    "    initial_assignment = np.random.choice(range(k), n)\n",
    "    cluster_indexes = [ (initial_assignment == i) for i in range(k) ]\n",
    "    cluster_sizes = [ cluster_indexes[i].sum() for i in range(k) ]\n",
    "\n",
    "    for l in range(t):\n",
    "        cluster_sums = [ np.sum(points[cluster_indexes[i]], axis=0) for i in range(k) ]\n",
    "        centers = np.array([ cluster_sums[i] / max(1, cluster_sizes[i]) for i in range(k) ])\n",
    "        distances_squared = np.sum((points - centers[:,np.newaxis])**2, axis=-1)\n",
    "        assignment = np.argmin(distances_squared, axis=0)\n",
    "        cluster_indexes = [ (assignment == i) for i in range(k) ]\n",
    "        cluster_sizes = [ cluster_indexes[i].sum() for i in range(k) ]\n",
    "\n",
    "    return centers"
   ]
  },
  {
   "metadata": {
    "ExecuteTime": {
     "end_time": "2024-09-26T18:40:30.544538Z",
     "start_time": "2024-09-26T18:40:30.537934Z"
    }
   },
   "cell_type": "code",
   "source": [
    "def k_means_private(points, k, t, rho):\n",
    "    # Initialize clusters randomly\n",
    "    initial_assignment = np.random.choice(range(k), n)\n",
    "    cluster_indexes = [ (initial_assignment == i) for i in range(k) ]\n",
    "    cluster_sizes = [ cluster_indexes[i].sum() for i in range(k) ]\n",
    "\n",
    "    # Compute noise parameters based on privacy level rho\n",
    "    sigma = np.sqrt(3 * t / rho)  # Assuming sigma = sigma'\n",
    "    # sigma_prime = np.sqrt(t / rho)\n",
    "    for l in range(t):\n",
    "        # Add noise to the cluster sums in every iteration\n",
    "        cluster_sums = [ np.sum(points[cluster_indexes[i]], axis=0) + np.random.normal(0, sigma, d) for i in range(k) ] # d is the dimension of the data\n",
    "        # Add noise to the cluster sizes only after the first iteration\n",
    "        if l > 0:\n",
    "            noisy_sizes = [ cluster_sizes[i] + np.random.normal(0, sigma) for i in range(k) ]\n",
    "        else:\n",
    "            noisy_sizes = cluster_sizes  # No noise in the first iteration\n",
    "        # Calculate the centers based on noisy sums and sizes\n",
    "        centers = np.array([ cluster_sums[i] / max(1, noisy_sizes[i]) for i in range(k) ])\n",
    "        # Recompute the assignments\n",
    "        distances_squared = np.sum((points - centers[:,np.newaxis])**2, axis=-1)\n",
    "        assignment = np.argmin(distances_squared, axis=0)\n",
    "        cluster_indexes = [ (assignment == i) for i in range(k) ]\n",
    "        cluster_sizes = [ cluster_indexes[i].sum() for i in range(k) ]\n",
    "    return centers\n"
   ],
   "outputs": [],
   "execution_count": 10
  },
  {
   "metadata": {
    "ExecuteTime": {
     "end_time": "2024-09-26T14:48:23.206663Z",
     "start_time": "2024-09-26T14:48:23.202805Z"
    }
   },
   "cell_type": "code",
   "source": "",
   "outputs": [],
   "execution_count": null
  },
  {
   "metadata": {},
   "cell_type": "markdown",
   "source": "# Plot cost as function of number of iterations"
  },
  {
   "metadata": {
    "ExecuteTime": {
     "end_time": "2024-09-26T18:40:34.860764Z",
     "start_time": "2024-09-26T18:40:33.682870Z"
    }
   },
   "cell_type": "code",
   "source": [
    "k = 5 # Number of clusters\n",
    "t = 5 # Number of iterations\n",
    "rho_values = np.logspace(-3, 0, 20) # rho values between 0.001 and 1.0 (log scale)\n",
    "costs = []\n",
    "\n",
    "for rho in rho_values: # Varying rho\n",
    "    centers = k_means_private(points, k, t, rho)\n",
    "    costs.append(compute_cost(points, centers))\n",
    "\n",
    "# Plot the costs vs rho\n",
    "fig, ax = plt.subplots()\n",
    "ax.set_xlabel('rho')\n",
    "ax.set_ylabel('cost')\n",
    "ax.plot(rho_values, costs)\n",
    "\n",
    "plt.xscale('log') # Use log scale for rho\n",
    "plt.show()\n"
   ],
   "outputs": [
    {
     "data": {
      "text/plain": [
       "<Figure size 640x480 with 1 Axes>"
      ],
      "image/png": "[encoded data removed]"
     },
     "metadata": {},
     "output_type": "display_data"
    }
   ],
   "execution_count": 11
  }
 ]
}
