{
 "nbformat": 4,
 "nbformat_minor": 0,
 "metadata": {
  "colab": {
   "provenance": []
  },
  "kernelspec": {
   "name": "python3",
   "display_name": "Python 3 (ipykernel)",
   "language": "python"
  },
  "language_info": {
   "name": "python"
  }
 },
 "cells": [
  {
   "cell_type": "markdown",
   "source": [
    "# Code template for hand-in on reconstruction attacks.\n",
    "\n",
    "Advanced Topics in Machine Learning, U. Copenhagen, fall 2024\n",
    "\n",
    "Created by Rasmus Pagh with minor edits by Thomas Christensen\n",
    "\n",
    "Queries on a hidden dataset x from {-1,+1}^100 can be made via the query method below\n",
    "which calls a web API that allows dot product queries with vectors in {-1,+1}^100.\n",
    "To protect data, Laplace noise is added to responses. Using the techniques you have\n",
    "seen in the lecture it is possible to partially reconstruct the dataset using 200 queries.\n",
    "To make sure that you get a unique challenge, choose any unique string as your challenge\n",
    "identifier. The web API will keep track of the number of queries made for each identifier."
   ],
   "metadata": {
    "id": "0gptEv_UkLPf"
   }
  },
  {
   "cell_type": "markdown",
   "source": [
    "# Support function for querying the web API"
   ],
   "metadata": {
    "id": "dyLpL0gdnquz"
   }
  },
  {
   "cell_type": "code",
   "source": [
    "import numpy as np\n",
    "import requests as rq\n",
    "\n",
    "# Retrieve answer to challenge for a given query\n",
    "def query(challenge_id, query_vector, submit=False):\n",
    "    # Only alphanumeric challenge_id and vextor entries in {-1,+1} are allowed:\n",
    "    assert(challenge_id.isalnum())\n",
    "    assert(np.max(np.minimum(np.abs(query_vector-1),np.abs(query_vector+1)))==0)\n",
    "\n",
    "    # if query array is 1d, make it 2d\n",
    "    if query_vector.ndim == 1:\n",
    "        query_vector = query_vector.reshape(1,-1)\n",
    "\n",
    "    payload = { 'challengeid': challenge_id, 'submit': submit,\n",
    "                'query': str(query_vector.tolist()) }\n",
    "    response = rq.post(\"https://baconbreaker.pythonanywhere.com/query\", data = payload).json()\n",
    "    if submit == False:\n",
    "        return np.array(eval(response['result']))\n",
    "    else:\n",
    "        return response['result']"
   ],
   "metadata": {
    "id": "L1Mb8xGZkTPO",
    "ExecuteTime": {
     "end_time": "2024-09-19T18:29:06.524248Z",
     "start_time": "2024-09-19T18:29:06.520301Z"
    }
   },
   "outputs": [],
   "execution_count": 17
  },
  {
   "cell_type": "markdown",
   "source": [
    "# Making random queries to the API"
   ],
   "metadata": {
    "id": "mgh9MtPmnyEl"
   }
  },
  {
   "cell_type": "code",
   "metadata": {
    "id": "rACAhWmE9zkq",
    "colab": {
     "base_uri": "https://localhost:8080/"
    },
    "outputId": "56510295-5822-4d72-a4ff-0fa5f90de0eb",
    "ExecuteTime": {
     "end_time": "2024-09-19T18:29:07.250066Z",
     "start_time": "2024-09-19T18:29:06.530254Z"
    }
   },
   "source": [
    "challenge_id = 'myUniqueIdentifier1911283' # identifier for hidden dataset\n",
    "n = 100 # number of entries in hidden dataset\n",
    "num_queries = 2*n # number of queries to be asked\n",
    "\n",
    "queries = np.random.choice([-1,+1], size=(num_queries,n)) # Set of random queries\n",
    "query_results = query(challenge_id, queries)\n",
    "\n",
    "# print(query_results)"
   ],
   "outputs": [],
   "execution_count": 18
  },
  {
   "cell_type": "markdown",
   "source": [
    "# Baseline reconstruction attack: Guess equals the best query\n",
    "\n",
    "Copy the notebook and replace with your attack. The first submission for a given challenge_id is stored on the server and on the leaderboard: http://baconbreaker.pythonanywhere.com/leaderboard/?n=100"
   ],
   "metadata": {
    "id": "uiUoCqxtknZj"
   }
  },
  {
   "cell_type": "markdown",
   "source": [
    "**Tip**: to solve a linear program you can use the following import:\n",
    "\n",
    "```\n",
    "from scipy.optimize import linprog\n",
    "```\n",
    "\n"
   ],
   "metadata": {
    "id": "wBzhULS8lfJf"
   }
  },
  {
   "cell_type": "code",
   "source": [
    "best_query_number = np.argmax(query_results)\n",
    "best_query = queries[best_query_number]\n",
    "best_query_result = query(challenge_id, best_query, submit=True)\n",
    "print(f\"\\nReconstruction attack achieves fraction {(1 + best_query_result / n) / 2} correct values\")"
   ],
   "metadata": {
    "colab": {
     "base_uri": "https://localhost:8080/"
    },
    "id": "KNEVYeK5klgu",
    "outputId": "28db8286-ea7e-45a1-cefd-b70c3f77ac34",
    "ExecuteTime": {
     "end_time": "2024-09-19T18:29:07.593242Z",
     "start_time": "2024-09-19T18:29:07.265909Z"
    }
   },
   "outputs": [
    {
     "name": "stdout",
     "output_type": "stream",
     "text": [
      "\n",
      "Reconstruction attack achieves fraction 0.6 correct values\n"
     ]
    }
   ],
   "execution_count": 19
  },
  {
   "metadata": {
    "ExecuteTime": {
     "end_time": "2024-09-19T18:29:07.647562Z",
     "start_time": "2024-09-19T18:29:07.606093Z"
    }
   },
   "cell_type": "code",
   "source": [
    "import numpy as np\n",
    "from scipy.optimize import linprog\n",
    "challenge_id = 'myUniqueIdentifier1911283' # identifier for hidden dataset\n",
    "c=np.hstack((np.zeros(n),np.ones(num_queries)))\n",
    "bounds=[(-1,1) for _ in range(n)]+[(0,None) for _ in range(num_queries)] #the range for data is -1 to 1, the range for the slack variables is 0 to infinity\n",
    "A_ub=[]\n",
    "b_ub=[]\n",
    "# we are trying to minimize the sum of the slack variables, which is the sum of the last num_queries variables in c, AI used for getting inspiration\n",
    "for i in range(num_queries):\n",
    "    # First inequality: ⟨q_i, x⟩ - e_i ≤ y_i\n",
    "    A_row_1 = np.hstack((queries[i], np.zeros(num_queries)))\n",
    "    A_row_1[n + i] = -1 #-1 because we want to move the slack variable to the other side\n",
    "    A_ub.append(A_row_1)\n",
    "    # Second inequality: -⟨q_i, x⟩ - e_i ≤ -y_i\n",
    "    A_row_2 = np.hstack((-queries[i], np.zeros(num_queries)))\n",
    "    A_row_2[n + i] = -1\n",
    "    A_ub.append(A_row_2)\n",
    "    b_ub.append(query_results[i])\n",
    "    b_ub.append(-query_results[i])\n",
    "A_ub=np.array(A_ub)\n",
    "\n",
    "result3=linprog(c,A_ub=A_ub,b_ub=b_ub,bounds=bounds,method='highs')\n",
    "DATA=result3.x[:n]\n",
    "DATA_reconstructed=np.sign(DATA)"
   ],
   "outputs": [],
   "execution_count": 20
  },
  {
   "metadata": {
    "ExecuteTime": {
     "end_time": "2024-09-19T18:29:07.987196Z",
     "start_time": "2024-09-19T18:29:07.660544Z"
    }
   },
   "cell_type": "code",
   "source": [
    "my_best_query_result = query(challenge_id, DATA_reconstructed, submit=True)\n",
    "print(f\"\\nReconstruction attack achieves fraction {(1 + my_best_query_result / n) / 2} correct values\")\n"
   ],
   "outputs": [
    {
     "name": "stdout",
     "output_type": "stream",
     "text": [
      "\n",
      "Reconstruction attack achieves fraction 0.85 correct values\n"
     ]
    }
   ],
   "execution_count": 21
  },
  {
   "metadata": {
    "ExecuteTime": {
     "end_time": "2024-09-19T18:29:08.061353Z",
     "start_time": "2024-09-19T18:29:08.057653Z"
    }
   },
   "cell_type": "code",
   "source": "",
   "outputs": [],
   "execution_count": null
  }
 ]
}
